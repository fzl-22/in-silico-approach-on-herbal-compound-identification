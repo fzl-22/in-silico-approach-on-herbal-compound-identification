{
 "cells": [
  {
   "cell_type": "code",
   "execution_count": null,
   "id": "8f5764b0",
   "metadata": {},
   "outputs": [],
   "source": [
    "for i in range(1, 340):\n",
    "    url = \"http://herbaldb.farmasi.ui.ac.id/v3/index.php?v=kontensenyawa&sortby=&start=\"+str(i)\n",
    "    print(url)"
   ]
  },
  {
   "cell_type": "code",
   "execution_count": null,
   "id": "670543ad",
   "metadata": {},
   "outputs": [],
   "source": [
    "import requests\n",
    "from bs4 import BeautifulSoup\n",
    "import pandas as pd\n",
    "import numpy as np\n",
    "\n",
    "herbal_data=pd.DataFrame()\n",
    "nm=[]\n",
    "knap=[]\n",
    "met=[]\n",
    "pub=[]\n",
    "for i in range(340):\n",
    "    url = \"http://herbaldb.farmasi.ui.ac.id/v3/index.php?v=kontensenyawa&sortby=&start=\"+str(i)\n",
    "    r   = requests.get(url)\n",
    "    soup = BeautifulSoup(r.text, \"html.parser\")\n",
    "    senyawa_table = soup.find_all('table', border=\"0\", width=\"100%\")[1]\n",
    "    for j in senyawa_table.find_all('tr'):\n",
    "        nama = j.find_all('td', style=\"text-align:left;padding-left:10px;\")[0].text\n",
    "        knapsack = j.find_all('td', style=\"text-align:center;\")[1].text\n",
    "        metabolite = j.find_all('td', style=\"text-align:center;\")[2].text\n",
    "        pubchem = j.find_all('td', style=\"text-align:center;\")[3].text\n",
    "        nm.append(nama)\n",
    "        knap.append(knapsack)\n",
    "        met.append(metabolite)\n",
    "        pub.append(pubchem)\n",
    "    print(\"page\",i,\"done\")"
   ]
  },
  {
   "cell_type": "code",
   "execution_count": null,
   "id": "d106645b",
   "metadata": {},
   "outputs": [],
   "source": [
    "data = [nm,knap,met,pub]\n",
    "herbal_data = herbal_data.append(data)\n",
    "# herbal_data = herbal_data.T\n",
    "herbal_data"
   ]
  },
  {
   "cell_type": "code",
   "execution_count": null,
   "id": "b43a01cb",
   "metadata": {},
   "outputs": [],
   "source": [
    "herbal_data = herbal_data.T\n",
    "herbal_data\n"
   ]
  },
  {
   "cell_type": "code",
   "execution_count": null,
   "id": "1aaf08b2",
   "metadata": {},
   "outputs": [],
   "source": [
    "herbal_data.rename(columns={0: 'Senyawa', 1: 'ID Knapsack', 2: 'ID Metabolite', 3: 'ID Pubchem'}, inplace=True)\n",
    "herbal_data = herbal_data[herbal_data.Senyawa != \"Senyawa\"]\n",
    "herbal_data"
   ]
  },
  {
   "cell_type": "code",
   "execution_count": null,
   "id": "7f309701",
   "metadata": {},
   "outputs": [],
   "source": [
    "herbal_data.drop(columns=[\"ID Knapsack\", \"ID Metabolite\", \"ID Pubchem\"], inplace=True)\n",
    "herbal_data"
   ]
  },
  {
   "cell_type": "code",
   "execution_count": null,
   "id": "b5e6038c",
   "metadata": {},
   "outputs": [],
   "source": [
    "herbal_data = herbal_data.iloc[3:-3].copy()\n",
    "herbal_data.reset_index(inplace=True)\n",
    "herbal_data.drop(columns=['index'], inplace=True)\n",
    "herbal_data"
   ]
  },
  {
   "cell_type": "code",
   "execution_count": null,
   "id": "2e9c99fa",
   "metadata": {},
   "outputs": [],
   "source": [
    "herbal_data.to_csv(\"../data/herbals/herbal_data.csv\", index=False)"
   ]
  }
 ],
 "metadata": {
  "kernelspec": {
   "display_name": "Python 3 (ipykernel)",
   "language": "python",
   "name": "python3"
  },
  "language_info": {
   "codemirror_mode": {
    "name": "ipython",
    "version": 3
   },
   "file_extension": ".py",
   "mimetype": "text/x-python",
   "name": "python",
   "nbconvert_exporter": "python",
   "pygments_lexer": "ipython3",
   "version": "3.11.3"
  }
 },
 "nbformat": 4,
 "nbformat_minor": 5
}
