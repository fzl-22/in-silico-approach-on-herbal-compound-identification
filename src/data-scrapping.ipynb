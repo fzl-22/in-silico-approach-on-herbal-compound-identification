{
 "cells": [
  {
   "cell_type": "code",
   "execution_count": 3,
   "metadata": {
    "executionInfo": {
     "elapsed": 312,
     "status": "ok",
     "timestamp": 1687862499486,
     "user": {
      "displayName": "RENDIKA NURHARTANTO",
      "userId": "08654841777874618172"
     },
     "user_tz": -420
    },
    "id": "jhUBIj6a5C07"
   },
   "outputs": [],
   "source": [
    "import pandas as pd\n",
    "from sklearn.preprocessing import MinMaxScaler\n",
    "from sklearn.decomposition import PCA\n",
    "import numpy as np\n",
    "from sklearn.preprocessing import StandardScaler\n",
    "import pubchempy as pcp\n",
    "\n",
    "\n",
    "import warnings\n",
    "# Ignore all warnings\n",
    "warnings.filterwarnings(\"ignore\")\n",
    "\n",
    "pd.set_option('display.max_columns', None)\n",
    "pd.set_option('display.max_rows', None)"
   ]
  },
  {
   "cell_type": "markdown",
   "metadata": {},
   "source": [
    "# Import Data"
   ]
  },
  {
   "cell_type": "code",
   "execution_count": null,
   "metadata": {
    "colab": {
     "base_uri": "https://localhost:8080/",
     "height": 505
    },
    "executionInfo": {
     "elapsed": 695,
     "status": "ok",
     "timestamp": 1687862539933,
     "user": {
      "displayName": "RENDIKA NURHARTANTO",
      "userId": "08654841777874618172"
     },
     "user_tz": -420
    },
    "id": "IaqrShRt5C0-",
    "outputId": "934e2b34-2598-4b41-bff3-b10aabd9a49d"
   },
   "outputs": [],
   "source": [
    "cek = pd.read_csv(\"Data PKM Alzheimer/string_interactions_short.tsv default node.csv\")\n",
    "cek"
   ]
  },
  {
   "cell_type": "code",
   "execution_count": null,
   "metadata": {
    "executionInfo": {
     "elapsed": 2,
     "status": "ok",
     "timestamp": 1687863019401,
     "user": {
      "displayName": "RENDIKA NURHARTANTO",
      "userId": "08654841777874618172"
     },
     "user_tz": -420
    },
    "id": "tztBDoTL5C1A"
   },
   "outputs": [],
   "source": [
    "def eigen(i):\n",
    "    df=pd.read_csv('Data PKM Alzheimer/'+i+'.csv')\n",
    "    df_name=df['name']\n",
    "    df=df[['BetweennessCentrality','ClosenessCentrality','ClusteringCoefficient','Degree','Radiality','Stress','TopologicalCoefficient']]#\n",
    "    scaler = StandardScaler()\n",
    "    df_scaled=(scaler.fit_transform(df))\n",
    "    print(df_scaled)\n",
    "    n_samples = df_scaled.shape[0]\n",
    "    print(n_samples)\n",
    "    pca = PCA()\n",
    "    X_transformed = pca.fit_transform(df_scaled)\n",
    "    print(X_transformed)\n",
    "    X_centered = df_scaled - np.mean(df_scaled, axis=0)\n",
    "    cov_matrix = np.dot(X_centered.T, X_centered) / n_samples\n",
    "    eigenvalues = pca.explained_variance_\n",
    "    print('clus ',i)\n",
    "    print('var ratio:',pca.explained_variance_ratio_[0])\n",
    "    print('eigen value:',eigenvalues[0])\n",
    "    print('eigen vector:',pca.components_[0])\n",
    "    print('_______________________________________________')\n",
    "\n",
    "    df_scaled=pd.DataFrame(df_scaled,columns=['BetweennessCentrality','ClosenessCentrality','ClusteringCoefficient','Degree','Radiality','Stress','TopologicalCoefficient'])\n",
    "    df_scaled['Overall']=0.0\n",
    "    for k in range(0,n_samples):\n",
    "        temp=0\n",
    "        for j in range(0,len(pca.components_[0])):\n",
    "            temp=temp+pca.components_[0][j]*df_scaled[df_scaled.columns[j]][k]\n",
    "        df_scaled['Overall'][k]=temp\n",
    "        print('overall ',temp)\n",
    "    pd.concat([df_name, df_scaled], axis=1, sort=False).to_excel('Data PKM Alzheimer/centrality_'+str(i)+'.xlsx')"
   ]
  },
  {
   "cell_type": "code",
   "execution_count": null,
   "metadata": {
    "colab": {
     "base_uri": "https://localhost:8080/"
    },
    "executionInfo": {
     "elapsed": 349,
     "status": "ok",
     "timestamp": 1687863021696,
     "user": {
      "displayName": "RENDIKA NURHARTANTO",
      "userId": "08654841777874618172"
     },
     "user_tz": -420
    },
    "id": "nLn22pwf5C1A",
    "outputId": "84d3cda3-1205-4275-95aa-2ddf992c91fb"
   },
   "outputs": [],
   "source": [
    "eigen('string_interactions_short.tsv default node')"
   ]
  },
  {
   "cell_type": "code",
   "execution_count": null,
   "metadata": {
    "colab": {
     "base_uri": "https://localhost:8080/",
     "height": 423
    },
    "executionInfo": {
     "elapsed": 516,
     "status": "ok",
     "timestamp": 1687863065883,
     "user": {
      "displayName": "RENDIKA NURHARTANTO",
      "userId": "08654841777874618172"
     },
     "user_tz": -420
    },
    "id": "dJ80EF7r5C1B",
    "outputId": "7124bff0-b2af-402b-a1d1-4881ea0c2641"
   },
   "outputs": [],
   "source": [
    "data=pd.read_excel('Data PKM Alzheimer/centrality_string_interactions_short.tsv default node.xlsx')\n",
    "data"
   ]
  },
  {
   "cell_type": "code",
   "execution_count": null,
   "metadata": {
    "colab": {
     "base_uri": "https://localhost:8080/"
    },
    "executionInfo": {
     "elapsed": 551,
     "status": "ok",
     "timestamp": 1687863069777,
     "user": {
      "displayName": "RENDIKA NURHARTANTO",
      "userId": "08654841777874618172"
     },
     "user_tz": -420
    },
    "id": "Whe83HZC5C1B",
    "outputId": "e2715920-99fc-423f-9908-edcfa89568fb"
   },
   "outputs": [],
   "source": [
    "x=data.iloc[:,1]\n",
    "x"
   ]
  },
  {
   "cell_type": "code",
   "execution_count": null,
   "metadata": {
    "colab": {
     "base_uri": "https://localhost:8080/"
    },
    "executionInfo": {
     "elapsed": 2,
     "status": "ok",
     "timestamp": 1687863072788,
     "user": {
      "displayName": "RENDIKA NURHARTANTO",
      "userId": "08654841777874618172"
     },
     "user_tz": -420
    },
    "id": "BTxgTUB05C1C",
    "outputId": "c06853ec-e309-4e0a-f328-0f30a904f54c"
   },
   "outputs": [],
   "source": [
    "y=data.iloc[:,9]\n",
    "y"
   ]
  },
  {
   "cell_type": "code",
   "execution_count": null,
   "metadata": {
    "colab": {
     "base_uri": "https://localhost:8080/",
     "height": 1000
    },
    "executionInfo": {
     "elapsed": 7,
     "status": "ok",
     "timestamp": 1687863077590,
     "user": {
      "displayName": "RENDIKA NURHARTANTO",
      "userId": "08654841777874618172"
     },
     "user_tz": -420
    },
    "id": "u3S9iM_N5C1C",
    "outputId": "f9e13b15-8d62-49c3-91ab-737c7e7c10c0"
   },
   "outputs": [],
   "source": [
    "import matplotlib.pyplot as plt\n",
    "plt.figure(figsize=(8,20))\n",
    "plt.barh(x, y, color='lightcoral')\n",
    "\n",
    "plt.ylabel('Skor', size=14)\n",
    "plt.xticks(size=10)\n",
    "plt.yticks(size=10)\n",
    "\n",
    "plt.show()"
   ]
  },
  {
   "cell_type": "code",
   "execution_count": 3,
   "metadata": {},
   "outputs": [
    {
     "ename": "NameError",
     "evalue": "name 'data' is not defined",
     "output_type": "error",
     "traceback": [
      "\u001b[1;31m---------------------------------------------------------------------------\u001b[0m",
      "\u001b[1;31mNameError\u001b[0m                                 Traceback (most recent call last)",
      "\u001b[1;32m~\\AppData\\Local\\Temp/ipykernel_22876/448689131.py\u001b[0m in \u001b[0;36m<module>\u001b[1;34m\u001b[0m\n\u001b[1;32m----> 1\u001b[1;33m \u001b[0mPakai\u001b[0m \u001b[1;33m=\u001b[0m \u001b[0mdata\u001b[0m\u001b[1;33m[\u001b[0m\u001b[0mdata\u001b[0m\u001b[1;33m[\u001b[0m\u001b[1;34m'Overall'\u001b[0m\u001b[1;33m]\u001b[0m \u001b[1;33m>=\u001b[0m \u001b[1;36m0\u001b[0m\u001b[1;33m]\u001b[0m\u001b[1;33m.\u001b[0m\u001b[0msort_values\u001b[0m\u001b[1;33m(\u001b[0m\u001b[0mby\u001b[0m\u001b[1;33m=\u001b[0m\u001b[1;34m'Overall'\u001b[0m\u001b[1;33m,\u001b[0m\u001b[0mascending\u001b[0m \u001b[1;33m=\u001b[0m \u001b[1;32mFalse\u001b[0m\u001b[1;33m)\u001b[0m\u001b[1;33m\u001b[0m\u001b[1;33m\u001b[0m\u001b[0m\n\u001b[0m\u001b[0;32m      2\u001b[0m \u001b[1;31m# Pakai.to_excel('Data PKM Alzheimer/Centrality_Overall_More_Than_Zero.xlsx')\u001b[0m\u001b[1;33m\u001b[0m\u001b[1;33m\u001b[0m\u001b[0m\n\u001b[0;32m      3\u001b[0m \u001b[0mPakai\u001b[0m\u001b[1;33m\u001b[0m\u001b[1;33m\u001b[0m\u001b[0m\n",
      "\u001b[1;31mNameError\u001b[0m: name 'data' is not defined"
     ]
    }
   ],
   "source": [
    "Pakai = data[data['Overall'] >= 0].sort_values(by='Overall',ascending = False)\n",
    "# Pakai.to_excel('Data PKM Alzheimer/Centrality_Overall_More_Than_Zero.xlsx')\n",
    "Pakai"
   ]
  },
  {
   "cell_type": "code",
   "execution_count": 4,
   "metadata": {
    "scrolled": true
   },
   "outputs": [
    {
     "ename": "NameError",
     "evalue": "name 'Pakai' is not defined",
     "output_type": "error",
     "traceback": [
      "\u001b[1;31m---------------------------------------------------------------------------\u001b[0m",
      "\u001b[1;31mNameError\u001b[0m                                 Traceback (most recent call last)",
      "\u001b[1;32m~\\AppData\\Local\\Temp/ipykernel_22876/2369983408.py\u001b[0m in \u001b[0;36m<module>\u001b[1;34m\u001b[0m\n\u001b[1;32m----> 1\u001b[1;33m \u001b[0mPakai\u001b[0m \u001b[1;33m=\u001b[0m \u001b[0mPakai\u001b[0m\u001b[1;33m.\u001b[0m\u001b[0mreset_index\u001b[0m\u001b[1;33m(\u001b[0m\u001b[0mdrop\u001b[0m \u001b[1;33m=\u001b[0m \u001b[1;32mTrue\u001b[0m\u001b[1;33m)\u001b[0m\u001b[1;33m.\u001b[0m\u001b[0mdrop\u001b[0m\u001b[1;33m(\u001b[0m\u001b[0mcolumns\u001b[0m \u001b[1;33m=\u001b[0m \u001b[1;34m'Unnamed: 0'\u001b[0m\u001b[1;33m)\u001b[0m\u001b[1;33m\u001b[0m\u001b[1;33m\u001b[0m\u001b[0m\n\u001b[0m",
      "\u001b[1;31mNameError\u001b[0m: name 'Pakai' is not defined"
     ]
    }
   ],
   "source": [
    "Pakai = Pakai.reset_index(drop = True).drop(columns = 'Unnamed: 0')"
   ]
  },
  {
   "cell_type": "code",
   "execution_count": 11,
   "metadata": {
    "scrolled": true
   },
   "outputs": [
    {
     "data": {
      "text/plain": [
       "0          TNF\n",
       "1         SNCA\n",
       "2        PSEN2\n",
       "3         IL1B\n",
       "4        CASP3\n",
       "5         RHOA\n",
       "6         CDK5\n",
       "7        VEGFA\n",
       "8       CACUL1\n",
       "9       PAXIP1\n",
       "10       GSK3B\n",
       "11         CLU\n",
       "12      NOTCH1\n",
       "13         VCP\n",
       "14         IDE\n",
       "15        IL10\n",
       "16        CAV1\n",
       "17         HTT\n",
       "18       SIRT1\n",
       "19        CTSB\n",
       "20        ACHE\n",
       "21        NOS3\n",
       "22       TREM2\n",
       "23       CASP8\n",
       "24        BIN1\n",
       "25    HLA-DRB1\n",
       "26      HSPA1A\n",
       "27         MME\n",
       "28        SOD2\n",
       "29      SQSTM1\n",
       "30       ABCA1\n",
       "31         SST\n",
       "32          CP\n",
       "33       UCHL1\n",
       "34       PARK2\n",
       "35       HSPA9\n",
       "36      ADAM10\n",
       "37      TGFBR2\n",
       "38       NTRK1\n",
       "39        BCHE\n",
       "40       NLRP3\n",
       "41       APBA1\n",
       "42        PPIF\n",
       "43       HDAC2\n",
       "44       CD2AP\n",
       "45       PRKCD\n",
       "46         SHH\n",
       "47        PLAU\n",
       "48        NEFL\n",
       "49      UBQLN1\n",
       "50         NPY\n",
       "51       HLA-A\n",
       "52      PTPN22\n",
       "53       CSF1R\n",
       "54       NCSTN\n",
       "55       MAP1B\n",
       "56         C4B\n",
       "57         TBP\n",
       "58         FAS\n",
       "59       ADRB2\n",
       "60        CHAT\n",
       "61       MTHFR\n",
       "62     C9orf72\n",
       "63        AGER\n",
       "Name: name, dtype: object"
      ]
     },
     "execution_count": 11,
     "metadata": {},
     "output_type": "execute_result"
    }
   ],
   "source": [
    "Nama = Pakai['name']\n",
    "Nama"
   ]
  },
  {
   "cell_type": "code",
   "execution_count": 12,
   "metadata": {
    "scrolled": true
   },
   "outputs": [],
   "source": [
    "smiles_dict = {}  # Empty dictionary to store key-value pairs\n",
    "for i in Nama :\n",
    "    results = pcp.get_compounds(i, 'name')\n",
    "    for compound in results:\n",
    "        Smiles = compound.isomeric_smiles\n",
    "        smiles_dict[i] = Smiles"
   ]
  },
  {
   "cell_type": "code",
   "execution_count": 16,
   "metadata": {},
   "outputs": [],
   "source": [
    "keys = smiles_dict.keys()"
   ]
  },
  {
   "cell_type": "code",
   "execution_count": null,
   "metadata": {},
   "outputs": [],
   "source": [
    "# results = pcp.get_compounds('TNF', 'name')\n",
    "# for compound in results:\n",
    "#     print(compound.isomeric_smiles)\n",
    "#     print(compound.iupac_name)\n",
    "#     print(compound.synonyms)"
   ]
  },
  {
   "cell_type": "code",
   "execution_count": null,
   "metadata": {},
   "outputs": [],
   "source": []
  }
 ],
 "metadata": {
  "colab": {
   "provenance": []
  },
  "kernelspec": {
   "display_name": "Python 3 (ipykernel)",
   "language": "python",
   "name": "python3"
  },
  "language_info": {
   "codemirror_mode": {
    "name": "ipython",
    "version": 3
   },
   "file_extension": ".py",
   "mimetype": "text/x-python",
   "name": "python",
   "nbconvert_exporter": "python",
   "pygments_lexer": "ipython3",
   "version": "3.10.9"
  },
  "toc": {
   "base_numbering": 1,
   "nav_menu": {},
   "number_sections": false,
   "sideBar": false,
   "skip_h1_title": false,
   "title_cell": "Table of Contents",
   "title_sidebar": "Contents",
   "toc_cell": false,
   "toc_position": {
    "height": "468.716px",
    "left": "10px",
    "top": "150px",
    "width": "158.455px"
   },
   "toc_section_display": true,
   "toc_window_display": false
  }
 },
 "nbformat": 4,
 "nbformat_minor": 1
}
