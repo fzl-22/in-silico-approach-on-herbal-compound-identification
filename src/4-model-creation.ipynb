{
 "cells": [
  {
   "cell_type": "code",
   "execution_count": null,
   "metadata": {},
   "outputs": [],
   "source": [
    "import pandas as pd\n",
    "from matplotlib import pyplot as plt\n",
    "from sklearn.metrics import classification_report, confusion_matrix, ConfusionMatrixDisplay\n",
    "from sklearn.model_selection import train_test_split, GridSearchCV\n",
    "from sklearn.svm import SVC  "
   ]
  },
  {
   "cell_type": "code",
   "execution_count": null,
   "metadata": {},
   "outputs": [],
   "source": [
    "# Oversampled Data\n",
    "df_oversampled = pd.read_csv(\"../data/resampled/oversampled_data.csv\").drop([\"Unnamed: 0\"], axis=1)\n",
    "df_oversampled.head(10)"
   ]
  },
  {
   "cell_type": "code",
   "execution_count": null,
   "metadata": {},
   "outputs": [],
   "source": [
    "# Undersampled Data\n",
    "df_undersampled = pd.read_csv(\"../data/resampled/undersampled_data.csv\").drop([\"Unnamed: 0\"], axis=1)\n",
    "df_undersampled.head(10)"
   ]
  },
  {
   "cell_type": "code",
   "execution_count": null,
   "metadata": {},
   "outputs": [],
   "source": [
    "def createSVCModel(title, df):\n",
    "  print(\"=============================================================\")\n",
    "  print(title)\n",
    "  print(\"=============================================================\")\n",
    "  # Split features and target\n",
    "  X = df.drop([\"target\"], axis=1)\n",
    "  y = df[\"target\"]\n",
    "  \n",
    "  # Split train-test set with 90% train set\n",
    "  X_train, X_test, y_train, y_test = train_test_split(X, y, test_size = 0.1, random_state=40)\n",
    "  \n",
    "  # Assign possible hyperparameters for SVC\n",
    "  param_grid = {\n",
    "    'C': [0.1,1, 10, 100],\n",
    "    'gamma': [1,0.1,0.01,0.001],\n",
    "    'kernel': ['rbf', 'poly', 'sigmoid']\n",
    "  }\n",
    "  \n",
    "  # Search for best parameters for SVC, then train the dataset\n",
    "  grid = GridSearchCV(SVC(), param_grid, refit=True)\n",
    "  grid.fit(X_train, y_train)\n",
    "  print(X_train.shape)\n",
    "  \n",
    "  # Print best hyperparameters tuning from GridSearchCV\n",
    "  print(\"BEST PARAMETERS:\")\n",
    "  print(grid.best_estimator_)\n",
    "  \n",
    "  # Predict dataset from test set\n",
    "  grid_predictions = grid.predict(X_test)\n",
    "  \n",
    "  # Get classification reports (precision, recall, and f1-score)\n",
    "  print(\"CLASSIFICATION REPORT:\")\n",
    "  print(classification_report(y_test, grid_predictions))\n",
    "  \n",
    "  # Get confusion matrix\n",
    "  cm = confusion_matrix(y_test, grid_predictions)\n",
    "  cm_display = ConfusionMatrixDisplay(confusion_matrix = cm, display_labels = [False, True])\n",
    "  cm_display.plot()\n",
    "  plt.show()\n",
    "  \n",
    "  # Return the trained model\n",
    "  return grid\n"
   ]
  },
  {
   "cell_type": "code",
   "execution_count": null,
   "metadata": {},
   "outputs": [],
   "source": [
    "oversampledModel = createSVCModel(\"OVERSAMPLED DATA\", df_oversampled)\n",
    "undersampledModel = createSVCModel(\"UNDERSAMPLED DATA\", df_undersampled)"
   ]
  },
  {
   "cell_type": "markdown",
   "metadata": {},
   "source": [
    "# Evaluation\n",
    "\n",
    "The models performs best when it is trained using oversampled data. It has reached 100% for each of the evaluation metrics."
   ]
  }
 ],
 "metadata": {
  "kernelspec": {
   "display_name": "pyfingerprint",
   "language": "python",
   "name": "python3"
  },
  "language_info": {
   "codemirror_mode": {
    "name": "ipython",
    "version": 3
   },
   "file_extension": ".py",
   "mimetype": "text/x-python",
   "name": "python",
   "nbconvert_exporter": "python",
   "pygments_lexer": "ipython3",
   "version": "3.11.3"
  }
 },
 "nbformat": 4,
 "nbformat_minor": 2
}
