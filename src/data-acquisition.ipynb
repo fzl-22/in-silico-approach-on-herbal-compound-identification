{
 "cells": [
  {
   "cell_type": "code",
   "execution_count": null,
   "metadata": {
    "executionInfo": {
     "elapsed": 312,
     "status": "ok",
     "timestamp": 1687862499486,
     "user": {
      "displayName": "RENDIKA NURHARTANTO",
      "userId": "08654841777874618172"
     },
     "user_tz": -420
    },
    "id": "jhUBIj6a5C07"
   },
   "outputs": [],
   "source": [
    "import pandas as pd\n",
    "from sklearn.preprocessing import MinMaxScaler\n",
    "from sklearn.decomposition import PCA\n",
    "import numpy as np\n",
    "from sklearn.preprocessing import StandardScaler\n",
    "import pubchempy as pcp\n",
    "import matplotlib.pyplot as plt\n",
    "import os\n",
    "from PyFingerprint.fingerprint import get_fingerprint, get_fingerprints\n",
    "import cirpy\n",
    "\n",
    "import warnings\n",
    "# Ignore all warnings\n",
    "warnings.filterwarnings(\"ignore\")\n",
    "\n",
    "pd.set_option('display.max_columns', None)\n",
    "pd.set_option('display.max_rows', None)"
   ]
  },
  {
   "cell_type": "markdown",
   "metadata": {},
   "source": [
    "# Import Data"
   ]
  },
  {
   "cell_type": "code",
   "execution_count": null,
   "metadata": {
    "colab": {
     "base_uri": "https://localhost:8080/",
     "height": 505
    },
    "executionInfo": {
     "elapsed": 695,
     "status": "ok",
     "timestamp": 1687862539933,
     "user": {
      "displayName": "RENDIKA NURHARTANTO",
      "userId": "08654841777874618172"
     },
     "user_tz": -420
    },
    "id": "IaqrShRt5C0-",
    "outputId": "934e2b34-2598-4b41-bff3-b10aabd9a49d"
   },
   "outputs": [],
   "source": [
    "cek = pd.read_csv(\"../data/string_interactions_short.tsv default node.csv\")\n",
    "cek"
   ]
  },
  {
   "cell_type": "code",
   "execution_count": null,
   "metadata": {
    "executionInfo": {
     "elapsed": 2,
     "status": "ok",
     "timestamp": 1687863019401,
     "user": {
      "displayName": "RENDIKA NURHARTANTO",
      "userId": "08654841777874618172"
     },
     "user_tz": -420
    },
    "id": "tztBDoTL5C1A"
   },
   "outputs": [],
   "source": [
    "def eigen(i):\n",
    "    df=pd.read_csv('../data/'+i+'.csv')\n",
    "    df_name=df['name']\n",
    "    df=df[['BetweennessCentrality','ClosenessCentrality','ClusteringCoefficient','Degree','Radiality','Stress','TopologicalCoefficient']]#\n",
    "    scaler = StandardScaler()\n",
    "    df_scaled=(scaler.fit_transform(df))\n",
    "    print(df_scaled)\n",
    "    n_samples = df_scaled.shape[0]\n",
    "    print(n_samples)\n",
    "    pca = PCA()\n",
    "    X_transformed = pca.fit_transform(df_scaled)\n",
    "    print(X_transformed)\n",
    "    X_centered = df_scaled - np.mean(df_scaled, axis=0)\n",
    "    cov_matrix = np.dot(X_centered.T, X_centered) / n_samples\n",
    "    eigenvalues = pca.explained_variance_\n",
    "    print('clus ',i)\n",
    "    print('var ratio:',pca.explained_variance_ratio_[0])\n",
    "    print('eigen value:',eigenvalues[0])\n",
    "    print('eigen vector:',pca.components_[0])\n",
    "    print('_______________________________________________')\n",
    "\n",
    "    df_scaled=pd.DataFrame(df_scaled,columns=['BetweennessCentrality','ClosenessCentrality','ClusteringCoefficient','Degree','Radiality','Stress','TopologicalCoefficient'])\n",
    "    df_scaled['Overall']=0.0\n",
    "    for k in range(0,n_samples):\n",
    "        temp=0\n",
    "        for j in range(0,len(pca.components_[0])):\n",
    "            temp=temp+pca.components_[0][j]*df_scaled[df_scaled.columns[j]][k]\n",
    "        df_scaled['Overall'][k]=temp\n",
    "        print('overall ',temp)\n",
    "    pd.concat([df_name, df_scaled], axis=1, sort=False).to_excel('../data/centrality_'+str(i)+'.xlsx')"
   ]
  },
  {
   "cell_type": "code",
   "execution_count": null,
   "metadata": {
    "colab": {
     "base_uri": "https://localhost:8080/"
    },
    "executionInfo": {
     "elapsed": 349,
     "status": "ok",
     "timestamp": 1687863021696,
     "user": {
      "displayName": "RENDIKA NURHARTANTO",
      "userId": "08654841777874618172"
     },
     "user_tz": -420
    },
    "id": "nLn22pwf5C1A",
    "outputId": "84d3cda3-1205-4275-95aa-2ddf992c91fb"
   },
   "outputs": [],
   "source": [
    "eigen('string_interactions_short.tsv default node')"
   ]
  },
  {
   "cell_type": "code",
   "execution_count": null,
   "metadata": {
    "colab": {
     "base_uri": "https://localhost:8080/",
     "height": 423
    },
    "executionInfo": {
     "elapsed": 516,
     "status": "ok",
     "timestamp": 1687863065883,
     "user": {
      "displayName": "RENDIKA NURHARTANTO",
      "userId": "08654841777874618172"
     },
     "user_tz": -420
    },
    "id": "dJ80EF7r5C1B",
    "outputId": "7124bff0-b2af-402b-a1d1-4881ea0c2641"
   },
   "outputs": [],
   "source": [
    "data = pd.read_excel('../data/centrality_string_interactions_short.tsv default node.xlsx')\n",
    "data"
   ]
  },
  {
   "cell_type": "code",
   "execution_count": null,
   "metadata": {
    "colab": {
     "base_uri": "https://localhost:8080/"
    },
    "executionInfo": {
     "elapsed": 551,
     "status": "ok",
     "timestamp": 1687863069777,
     "user": {
      "displayName": "RENDIKA NURHARTANTO",
      "userId": "08654841777874618172"
     },
     "user_tz": -420
    },
    "id": "Whe83HZC5C1B",
    "outputId": "e2715920-99fc-423f-9908-edcfa89568fb"
   },
   "outputs": [],
   "source": [
    "x=data.iloc[:,1]\n",
    "x"
   ]
  },
  {
   "cell_type": "code",
   "execution_count": null,
   "metadata": {
    "colab": {
     "base_uri": "https://localhost:8080/"
    },
    "executionInfo": {
     "elapsed": 2,
     "status": "ok",
     "timestamp": 1687863072788,
     "user": {
      "displayName": "RENDIKA NURHARTANTO",
      "userId": "08654841777874618172"
     },
     "user_tz": -420
    },
    "id": "BTxgTUB05C1C",
    "outputId": "c06853ec-e309-4e0a-f328-0f30a904f54c"
   },
   "outputs": [],
   "source": [
    "y=data.iloc[:,9]\n",
    "y"
   ]
  },
  {
   "cell_type": "code",
   "execution_count": null,
   "metadata": {
    "colab": {
     "base_uri": "https://localhost:8080/",
     "height": 1000
    },
    "executionInfo": {
     "elapsed": 7,
     "status": "ok",
     "timestamp": 1687863077590,
     "user": {
      "displayName": "RENDIKA NURHARTANTO",
      "userId": "08654841777874618172"
     },
     "user_tz": -420
    },
    "id": "u3S9iM_N5C1C",
    "outputId": "f9e13b15-8d62-49c3-91ab-737c7e7c10c0"
   },
   "outputs": [],
   "source": [
    "plt.figure(figsize=(8,20))\n",
    "plt.barh(x, y, color='lightcoral')\n",
    "\n",
    "plt.ylabel('Skor', size=14)\n",
    "plt.xticks(size=10)\n",
    "plt.yticks(size=10)\n",
    "\n",
    "plt.show()"
   ]
  },
  {
   "cell_type": "code",
   "execution_count": null,
   "metadata": {},
   "outputs": [],
   "source": [
    "Pakai = data[data['Overall'] >= 0].sort_values(by='Overall',ascending = False)\n",
    "# Pakai.to_excel('Data PKM Alzheimer/Centrality_Overall_More_Than_Zero.xlsx')\n",
    "Pakai"
   ]
  },
  {
   "cell_type": "code",
   "execution_count": null,
   "metadata": {
    "scrolled": true
   },
   "outputs": [],
   "source": [
    "Pakai = Pakai.reset_index(drop = True).drop(columns = 'Unnamed: 0')"
   ]
  },
  {
   "cell_type": "code",
   "execution_count": null,
   "metadata": {
    "scrolled": true
   },
   "outputs": [],
   "source": [
    "Nama = Pakai['name']\n",
    "Nama"
   ]
  },
  {
   "cell_type": "code",
   "execution_count": null,
   "metadata": {},
   "outputs": [],
   "source": [
    "best_protein_candidate = Pakai.head(10).copy()\n",
    "best_protein_candidate"
   ]
  },
  {
   "cell_type": "code",
   "execution_count": null,
   "metadata": {},
   "outputs": [],
   "source": [
    "best_protein_candidate[\"name\"].to_list()"
   ]
  },
  {
   "cell_type": "code",
   "execution_count": null,
   "metadata": {},
   "outputs": [],
   "source": [
    "directory_path = '../data/compounds'\n",
    "\n",
    "csv_files = [file for file in os.listdir(directory_path) if file.endswith('.csv')]\n",
    "\n",
    "compounds_df = []\n",
    "for csv_file in csv_files:\n",
    "  csv_path = os.path.join(directory_path, csv_file)\n",
    "  df = pd.read_csv(csv_path)\n",
    "  compounds_df.append(df)\n",
    "\n",
    "combined_compounds_df = pd.concat(compounds_df, ignore_index=True)\n",
    "combined_compounds_df.head()"
   ]
  },
  {
   "cell_type": "code",
   "execution_count": null,
   "metadata": {},
   "outputs": [],
   "source": [
    "compounds_compact_summary_df = combined_compounds_df[['cid', 'cmpdname', 'isosmiles']]\n",
    "compounds_compact_summary_df"
   ]
  },
  {
   "cell_type": "code",
   "execution_count": null,
   "metadata": {},
   "outputs": [],
   "source": [
    "compounds_compact_summary_df.to_csv('../data/ligands/ligand_smiles_results.csv')"
   ]
  },
  {
   "cell_type": "markdown",
   "metadata": {},
   "source": [
    "# Generate Ligand Fingerprint"
   ]
  },
  {
   "cell_type": "code",
   "execution_count": null,
   "metadata": {},
   "outputs": [],
   "source": [
    "list_of_ligand_fingerprints = []\n",
    "for smiles in compounds_compact_summary_df['isosmiles']:\n",
    "  fingerprint = get_fingerprint(smiles, 'pubchem')\n",
    "  fingerprint = list(fingerprint.to_numpy().astype(int))\n",
    "  list_of_ligand_fingerprints.append(fingerprint)\n",
    "\n",
    "list_of_ligand_fingerprints_df = pd.DataFrame(list_of_ligand_fingerprints)\n",
    "list_of_ligand_fingerprints_df.head(5)\n"
   ]
  },
  {
   "cell_type": "code",
   "execution_count": null,
   "metadata": {},
   "outputs": [],
   "source": [
    "compound_fingerprints_df = pd.concat([compounds_compact_summary_df, list_of_ligand_fingerprints_df], axis=1)\n",
    "compound_fingerprints_df.head()"
   ]
  },
  {
   "cell_type": "code",
   "execution_count": null,
   "metadata": {},
   "outputs": [],
   "source": [
    "compound_fingerprints_df.to_csv('../data/fingerprints/ligand_fingerprints.csv')"
   ]
  },
  {
   "cell_type": "markdown",
   "metadata": {},
   "source": [
    "# Generate Decoy Fingerprints"
   ]
  },
  {
   "cell_type": "code",
   "execution_count": null,
   "metadata": {},
   "outputs": [],
   "source": [
    "decoy_smiles = pd.read_csv(\"../data/decoys/decoy-smiles-results.csv\")\n",
    "decoy_smiles.drop(columns=['Kode-1', 'Kode-2'], axis=1, inplace=True)\n",
    "\n",
    "list_of_decoy_fingerprints = []\n",
    "for smiles in decoy_smiles['smiles']:\n",
    "  fingerprint = get_fingerprint(smiles, 'pubchem')\n",
    "  fingerprint = list(fingerprint.to_numpy().astype(int))\n",
    "  list_of_decoy_fingerprints.append(fingerprint)\n",
    "\n",
    "list_of_decoy_fingerprints_df = pd.DataFrame(list_of_decoy_fingerprints)\n",
    "list_of_decoy_fingerprints_df.head(5)"
   ]
  },
  {
   "cell_type": "code",
   "execution_count": null,
   "metadata": {},
   "outputs": [],
   "source": [
    "decoy_fingerprints_df = pd.concat([decoy_smiles, list_of_decoy_fingerprints_df], axis=1)\n",
    "decoy_fingerprints_df.to_csv(\"../data/fingerprints/decoy_fingerprints.csv\")"
   ]
  },
  {
   "cell_type": "markdown",
   "metadata": {},
   "source": [
    "# Labeling and Combine Data"
   ]
  },
  {
   "cell_type": "code",
   "execution_count": null,
   "metadata": {},
   "outputs": [],
   "source": [
    "ligand_pubchem_fingerprint = pd.read_csv(\"../data/fingerprints/ligand_fingerprints.csv\")\n",
    "ligand_pubchem_fingerprint.drop(columns=['Unnamed: 0', 'cid', 'cmpdname'], axis=1, inplace=True)\n",
    "ligand_pubchem_fingerprint.rename(columns={'isosmiles':'smiles'}, inplace=True)\n",
    "ligand_pubchem_fingerprint['class'] = 1\n",
    "ligand_pubchem_fingerprint.head(10)"
   ]
  },
  {
   "cell_type": "code",
   "execution_count": null,
   "metadata": {},
   "outputs": [],
   "source": [
    "decoy_pubchem_fingerprint = pd.read_csv('../data/fingerprints/decoy_fingerprints.csv')\n",
    "decoy_pubchem_fingerprint.drop(columns=['Unnamed: 0'], axis=1, inplace=True)\n",
    "decoy_pubchem_fingerprint['class'] = 0\n",
    "decoy_pubchem_fingerprint.head(10)"
   ]
  },
  {
   "cell_type": "code",
   "execution_count": null,
   "metadata": {},
   "outputs": [],
   "source": [
    "all_fingerprints = pd.concat([ligand_pubchem_fingerprint, decoy_pubchem_fingerprint], axis=0, ignore_index=True)\n",
    "all_fingerprints.to_csv('../data/results/all_fingerprints.csv')"
   ]
  },
  {
   "cell_type": "markdown",
   "metadata": {},
   "source": [
    "# Herbal Compound"
   ]
  },
  {
   "cell_type": "code",
   "execution_count": null,
   "metadata": {},
   "outputs": [],
   "source": [
    "herbal_compounds = pd.read_csv(\"../data/herbals/herbal_data.csv\")\n",
    "herbal_compounds.head(10)"
   ]
  },
  {
   "cell_type": "markdown",
   "metadata": {},
   "source": [
    "## Resolving using Chemical Identifier Resolver"
   ]
  },
  {
   "cell_type": "code",
   "execution_count": null,
   "metadata": {},
   "outputs": [],
   "source": [
    "from urllib.request import urlopen\n",
    "from urllib.parse import quote\n",
    "\n",
    "def CIRconvert(ids):\n",
    "  try:\n",
    "    url = 'http://cactus.nci.nih.gov/chemical/structure/' + quote(ids) + '/smiles'\n",
    "    ans = urlopen(url).read().decode('utf8')\n",
    "    return ans\n",
    "  except:\n",
    "    return 'Did not work'"
   ]
  },
  {
   "cell_type": "code",
   "execution_count": null,
   "metadata": {},
   "outputs": [],
   "source": [
    "herbal_compound_list = herbal_compounds['Senyawa'].to_list()\n",
    "\n",
    "herbal_compound_smiles_list = []\n",
    "for compound in herbal_compound_list:\n",
    "  compound_smiles = CIRconvert(compound)\n",
    "  print(f\"{compound} -> {compound_smiles}\")\n",
    "  herbal_compound_smiles_list.append(compound_smiles)\n",
    "\n",
    "herbal_compound_smiles_list"
   ]
  },
  {
   "cell_type": "code",
   "execution_count": null,
   "metadata": {},
   "outputs": [],
   "source": [
    "herbal_compounds[\"smiles\"] = herbal_compound_smiles_list\n",
    "herbal_compounds.head(10)"
   ]
  },
  {
   "cell_type": "code",
   "execution_count": null,
   "metadata": {},
   "outputs": [],
   "source": [
    "herbal_compounds.to_csv(\"../data/herbals/herbal_smiles_part_1.csv\", index=False)"
   ]
  },
  {
   "cell_type": "code",
   "execution_count": null,
   "metadata": {},
   "outputs": [],
   "source": [
    "herbal_smiles_by_CIR = pd.read_csv(\"../data/herbals/herbal_smiles_part_1.csv\")\n",
    "herbal_smiles_by_CIR.head(10)"
   ]
  },
  {
   "cell_type": "markdown",
   "metadata": {},
   "source": [
    "## Resolving using Pubchempy"
   ]
  },
  {
   "cell_type": "code",
   "execution_count": null,
   "metadata": {},
   "outputs": [],
   "source": [
    "counter = 0\n",
    "for index, row in herbal_smiles_by_CIR.iterrows():\n",
    "    compound = row['Senyawa']\n",
    "    smiles = row['smiles']\n",
    "    if(smiles == \"Did not work\"):\n",
    "      smiles_by_pcp = getHerbalSMILESFromPubchempy(compound)\n",
    "      print(f\"{counter} : {compound} -> {smiles_by_pcp}\")\n",
    "      herbal_compound_smiles_list[counter] = smiles_by_pcp\n",
    "    \n",
    "    counter = counter + 1"
   ]
  },
  {
   "cell_type": "code",
   "execution_count": null,
   "metadata": {},
   "outputs": [],
   "source": [
    "herbal_compounds[\"smiles\"] = herbal_compound_smiles_list\n",
    "herbal_compounds.head(10)"
   ]
  },
  {
   "cell_type": "code",
   "execution_count": null,
   "metadata": {},
   "outputs": [],
   "source": [
    "herbal_compounds.to_csv(\"../data/herbals/herbal_smiles_part_2.csv\", index=False)"
   ]
  },
  {
   "cell_type": "markdown",
   "metadata": {},
   "source": [
    "## All resolved herbal compounds SMILES"
   ]
  },
  {
   "cell_type": "code",
   "execution_count": null,
   "metadata": {},
   "outputs": [],
   "source": [
    "herbal_smiles_all = pd.read_csv('../data/herbals/herbal_smiles_part_2.csv')\n",
    "# len(herbal_smiles_all[herbal_smiles_all['smiles'] != \"Not Found\"]) # Got 5561 data\n",
    "herbal_smiles_all = herbal_smiles_all[herbal_smiles_all['smiles'] != \"Not Found\"]\n",
    "herbal_smiles_all.head(20)"
   ]
  },
  {
   "cell_type": "code",
   "execution_count": null,
   "metadata": {},
   "outputs": [],
   "source": [
    "herbal_smiles_all.reset_index(drop=True, inplace=True)\n",
    "herbal_smiles_all.head(20)"
   ]
  },
  {
   "cell_type": "code",
   "execution_count": null,
   "metadata": {},
   "outputs": [],
   "source": [
    "herbal_smiles_all.to_csv(\"../data/herbals/herbal_smiles_all.csv\", index=False)"
   ]
  },
  {
   "cell_type": "markdown",
   "metadata": {},
   "source": [
    "## Generate herbal fingerprints"
   ]
  },
  {
   "cell_type": "code",
   "execution_count": null,
   "metadata": {},
   "outputs": [],
   "source": [
    "herbal_smiles = pd.read_csv(\"../data/herbals/herbal_smiles_all.csv\")\n",
    "\n",
    "list_of_herbal_fingerprints = []\n",
    "for smiles in herbal_smiles['smiles']:\n",
    "  fingerprint = get_fingerprint(smiles, 'pubchem')\n",
    "  fingerprint = list(fingerprint.to_numpy().astype(int))\n",
    "  list_of_herbal_fingerprints.append(fingerprint)\n",
    "\n",
    "list_of_herbal_fingerprints_df = pd.DataFrame(list_of_herbal_fingerprints)\n",
    "list_of_herbal_fingerprints_df.head(5)"
   ]
  },
  {
   "cell_type": "code",
   "execution_count": null,
   "metadata": {},
   "outputs": [],
   "source": [
    "herbal_fingerprints_df = pd.concat([herbal_smiles, list_of_herbal_fingerprints_df], axis=1)\n",
    "herbal_fingerprints_df.to_csv(\"../data/fingerprints/herbal_fingerprints.csv\")\n",
    "herbal_fingerprints_df.head(10)"
   ]
  },
  {
   "cell_type": "markdown",
   "metadata": {},
   "source": [
    "## Labeling and combine data"
   ]
  },
  {
   "cell_type": "code",
   "execution_count": null,
   "metadata": {},
   "outputs": [],
   "source": [
    "herbal_fingerprints_df = pd.read_csv(\"../data/fingerprints/herbal_fingerprints.csv\", )\n",
    "\n",
    "herbal_fingerprints_df.drop(columns=[\"Senyawa\", \"Unnamed: 0\"], axis=1, inplace=True)\n",
    "herbal_fingerprints_df[\"class\"] = 2\n",
    "herbal_fingerprints_df.head(10)"
   ]
  },
  {
   "cell_type": "code",
   "execution_count": null,
   "metadata": {},
   "outputs": [],
   "source": [
    "all_fingerprints = pd.read_csv(\"../data/results/all_fingerprints.csv\").reset_index(drop=True).drop(columns=[\"Unnamed: 0\"], axis=1);\n",
    "\n",
    "all_fingerprints = pd.concat([all_fingerprints, herbal_fingerprints_df], axis=0, ignore_index=True)\n",
    "all_fingerprints.to_csv('../data/results/all_fingerprints.csv')"
   ]
  }
 ],
 "metadata": {
  "colab": {
   "provenance": []
  },
  "kernelspec": {
   "display_name": "Python 3 (ipykernel)",
   "language": "python",
   "name": "python3"
  },
  "language_info": {
   "codemirror_mode": {
    "name": "ipython",
    "version": 3
   },
   "file_extension": ".py",
   "mimetype": "text/x-python",
   "name": "python",
   "nbconvert_exporter": "python",
   "pygments_lexer": "ipython3",
   "version": "3.11.3"
  },
  "toc": {
   "base_numbering": 1,
   "nav_menu": {},
   "number_sections": false,
   "sideBar": false,
   "skip_h1_title": false,
   "title_cell": "Table of Contents",
   "title_sidebar": "Contents",
   "toc_cell": false,
   "toc_position": {
    "height": "468.716px",
    "left": "10px",
    "top": "150px",
    "width": "158.455px"
   },
   "toc_section_display": true,
   "toc_window_display": false
  }
 },
 "nbformat": 4,
 "nbformat_minor": 4
}
