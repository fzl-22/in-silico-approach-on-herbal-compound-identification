{
 "cells": [
  {
   "cell_type": "code",
   "execution_count": 14,
   "metadata": {},
   "outputs": [
    {
     "data": {
      "text/plain": [
       "'CC1=C[C@H]2C[C@@H](C1)C2(C)C'"
      ]
     },
     "execution_count": 14,
     "metadata": {},
     "output_type": "execute_result"
    }
   ],
   "source": [
    "import pubchempy as pcp\n",
    "\n",
    "def getHerbalSMILES(compound):\n",
    "  results = pcp.get_compounds(compound, 'name')\n",
    "  if len(results) == 0:\n",
    "    return \"Not Found\"\n",
    "  return results[0].isomeric_smiles\n",
    "\n",
    "getHerbalSMILES('a-Pinene')"
   ]
  },
  {
   "cell_type": "code",
   "execution_count": 13,
   "metadata": {},
   "outputs": [
    {
     "name": "stdout",
     "output_type": "stream",
     "text": [
      "O=C1Oc2cc3OCCc3cc2C=C1\n"
     ]
    }
   ],
   "source": [
    "from urllib.request import urlopen\n",
    "from urllib.parse import quote\n",
    "\n",
    "def CIRconvert(ids):\n",
    "  try:\n",
    "    url = 'http://cactus.nci.nih.gov/chemical/structure/' + quote(ids) + '/smiles'\n",
    "    ans = urlopen(url).read().decode('utf8')\n",
    "    return ans\n",
    "  except:\n",
    "    return 'Did not work'\n",
    "\n",
    "print(CIRconvert(\"4',5'-Dihydropsoralen\"))"
   ]
  }
 ],
 "metadata": {
  "kernelspec": {
   "display_name": "pyfingerprint",
   "language": "python",
   "name": "python3"
  },
  "language_info": {
   "codemirror_mode": {
    "name": "ipython",
    "version": 3
   },
   "file_extension": ".py",
   "mimetype": "text/x-python",
   "name": "python",
   "nbconvert_exporter": "python",
   "pygments_lexer": "ipython3",
   "version": "3.11.3"
  },
  "orig_nbformat": 4
 },
 "nbformat": 4,
 "nbformat_minor": 2
}
